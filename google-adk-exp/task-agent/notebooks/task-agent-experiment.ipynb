{
 "cells": [
  {
   "cell_type": "markdown",
   "metadata": {},
   "source": [
    "# Task Agent\n",
    "\n",
    "Core idea of this agent is to manage tasks. Give information about existing tasks and analize tasks that already done."
   ]
  },
  {
   "cell_type": "code",
   "execution_count": 1,
   "metadata": {},
   "outputs": [],
   "source": [
    "import os\n",
    "import sys\n",
    "from pathlib import Path\n",
    "from dotenv import load_dotenv\n",
    "from typing import Dict, Any, Optional, List"
   ]
  },
  {
   "cell_type": "code",
   "execution_count": 2,
   "metadata": {},
   "outputs": [],
   "source": [
    "# Load environment variables\n",
    "load_dotenv() \n",
    "\n",
    "# Add project root to Python path and change working directory\n",
    "project_root = Path().resolve().parent\n",
    "sys.path.insert(0, str(project_root))\n",
    "os.chdir(project_root)  # Change working directory to project root"
   ]
  },
  {
   "cell_type": "code",
   "execution_count": 3,
   "metadata": {},
   "outputs": [],
   "source": [
    "from hera.task_manager import TaskManager\n",
    "from google.adk.agents import Agent\n",
    "from google.adk.sessions import InMemorySessionService\n",
    "from google.adk.runners import Runner\n",
    "from google.genai import types # For creating message Content/Parts"
   ]
  },
  {
   "cell_type": "code",
   "execution_count": 4,
   "metadata": {},
   "outputs": [
    {
     "name": "stdout",
     "output_type": "stream",
     "text": [
      "API Keys Set:\n",
      "Google API Key set: Yes\n"
     ]
    }
   ],
   "source": [
    "google_api_key = os.environ.get(\"GOOGLE_API_KEY\", \"YOUR_GOOGLE_API_KEY\")\n",
    "print(\"API Keys Set:\")\n",
    "print(f\"Google API Key set: {'Yes' if google_api_key and google_api_key != 'YOUR_GOOGLE_API_KEY' else 'No (REPLACE PLACEHOLDER!)'}\")"
   ]
  },
  {
   "cell_type": "code",
   "execution_count": 5,
   "metadata": {},
   "outputs": [],
   "source": [
    "# Constants\n",
    "\n",
    "MODEL_GEMINI_2_0_FLASH = \"gemini-2.0-flash\""
   ]
  },
  {
   "cell_type": "code",
   "execution_count": 6,
   "metadata": {},
   "outputs": [],
   "source": [
    "# Initialize Task Manager\n",
    "task_manager = TaskManager()"
   ]
  },
  {
   "cell_type": "markdown",
   "metadata": {},
   "source": [
    "Let's import tools from agent and tests them"
   ]
  },
  {
   "cell_type": "code",
   "execution_count": 7,
   "metadata": {},
   "outputs": [],
   "source": [
    "from hera.agent import add_task, list_tasks, update_task, delete_task, list_today_tasks, list_tomorrow_tasks, list_this_week_tasks, list_next_week_tasks, list_next_month_tasks, list_tasks_for_date\n",
    "\n",
    "def update_task_wrapper(task_id: str, title: Optional[str] = None, description: Optional[str] = None,\n",
    "                timeframe: Optional[str] = None, priority: Optional[str] = None, \n",
    "                status: Optional[str] = None, due_date: Optional[str] = None,\n",
    "                tags: Optional[List[str]] = None) -> Dict[str, Any]:\n",
    "    return update_task(task_id, title, description, timeframe, priority, status, due_date, tags)\n"
   ]
  },
  {
   "cell_type": "markdown",
   "metadata": {},
   "source": [
    "Example of tool usage:"
   ]
  },
  {
   "cell_type": "code",
   "execution_count": 8,
   "metadata": {},
   "outputs": [
    {
     "name": "stdout",
     "output_type": "stream",
     "text": [
      "Created a task:\n"
     ]
    },
    {
     "data": {
      "text/plain": [
       "{'status': 'success',\n",
       " 'message': 'Task added successfully',\n",
       " 'task': {'id': 'b23a4a7c-bd9e-4d33-aea1-624f4be93f91',\n",
       "  'title': 'Buy groceries',\n",
       "  'description': 'Buy fruits, vegetables, and bread',\n",
       "  'timeframe': 'day',\n",
       "  'priority': 'medium',\n",
       "  'status': 'pending',\n",
       "  'due_date': '2023-01-01',\n",
       "  'tags': ['shopping', 'groceries'],\n",
       "  'created_at': '2025-09-24T10:49:26.362351',\n",
       "  'updated_at': '2025-09-24T10:49:26.362357'}}"
      ]
     },
     "metadata": {},
     "output_type": "display_data"
    },
    {
     "name": "stdout",
     "output_type": "stream",
     "text": [
      "Existing tasks:\n"
     ]
    },
    {
     "data": {
      "text/plain": [
       "[{'id': 'f000fec0-d147-4e71-8865-5ec81b2defd3',\n",
       "  'title': 'Buy groceries',\n",
       "  'description': 'Buy fruits, vegetables, and bread',\n",
       "  'timeframe': 'day',\n",
       "  'priority': 'medium',\n",
       "  'status': 'pending',\n",
       "  'due_date': '2023-01-01',\n",
       "  'tags': ['shopping', 'groceries'],\n",
       "  'created_at': '2025-09-23T21:16:24.026989',\n",
       "  'updated_at': '2025-09-23T21:16:24.026996'},\n",
       " {'id': 'b23a4a7c-bd9e-4d33-aea1-624f4be93f91',\n",
       "  'title': 'Buy groceries',\n",
       "  'description': 'Buy fruits, vegetables, and bread',\n",
       "  'timeframe': 'day',\n",
       "  'priority': 'medium',\n",
       "  'status': 'pending',\n",
       "  'due_date': '2023-01-01',\n",
       "  'tags': ['shopping', 'groceries'],\n",
       "  'created_at': '2025-09-24T10:49:26.362351',\n",
       "  'updated_at': '2025-09-24T10:49:26.362357'},\n",
       " {'id': '13bb0547-b766-4e0f-bdd2-197648ec08e2',\n",
       "  'title': 'Send Post',\n",
       "  'description': '',\n",
       "  'timeframe': 'day',\n",
       "  'priority': 'high',\n",
       "  'status': 'pending',\n",
       "  'due_date': '2025-09-25',\n",
       "  'tags': [],\n",
       "  'created_at': '2025-09-24T10:24:05.138305',\n",
       "  'updated_at': '2025-09-24T10:24:05.138316'}]"
      ]
     },
     "metadata": {},
     "output_type": "display_data"
    }
   ],
   "source": [
    "task_result = add_task(\"Buy groceries\", \"Buy fruits, vegetables, and bread\", \"day\", \"medium\", \"2023-01-01\", [\"shopping\", \"groceries\"])\n",
    "print(f\"Created a task:\")\n",
    "display(task_result)\n",
    "print(f\"Existing tasks:\")\n",
    "tasks_list = list_tasks(timeframe=None, status=\"pending\", target_date=None, include_stats=False)['tasks']\n",
    "display(tasks_list)"
   ]
  },
  {
   "cell_type": "code",
   "execution_count": 9,
   "metadata": {},
   "outputs": [
    {
     "name": "stdout",
     "output_type": "stream",
     "text": [
      "Updating task: b23a4a7c-bd9e-4d33-aea1-624f4be93f91 to completed status\n"
     ]
    },
    {
     "data": {
      "text/plain": [
       "{'id': 'b23a4a7c-bd9e-4d33-aea1-624f4be93f91',\n",
       " 'title': 'Buy groceries',\n",
       " 'description': 'Buy fruits, vegetables, and bread',\n",
       " 'timeframe': 'day',\n",
       " 'priority': 'medium',\n",
       " 'status': 'completed',\n",
       " 'due_date': '2023-01-01',\n",
       " 'tags': ['shopping', 'groceries'],\n",
       " 'created_at': '2025-09-24T10:49:26.362351',\n",
       " 'updated_at': '2025-09-24T10:49:26.368545'}"
      ]
     },
     "metadata": {},
     "output_type": "display_data"
    },
    {
     "name": "stdout",
     "output_type": "stream",
     "text": [
      "{'status': 'success', 'message': 'Task deleted successfully', 'deleted_task_id': 'b23a4a7c-bd9e-4d33-aea1-624f4be93f91', 'deleted_task': {'id': 'b23a4a7c-bd9e-4d33-aea1-624f4be93f91', 'title': 'Buy groceries', 'description': 'Buy fruits, vegetables, and bread', 'timeframe': 'day', 'priority': 'medium', 'status': 'completed', 'due_date': '2023-01-01', 'tags': ['shopping', 'groceries'], 'created_at': '2025-09-24T10:49:26.362351', 'updated_at': '2025-09-24T10:49:26.368545'}}\n",
      "Deleted task: b23a4a7c-bd9e-4d33-aea1-624f4be93f91\n"
     ]
    }
   ],
   "source": [
    "task_id = task_result['task']['id']\n",
    "if task_id is not None:\n",
    "    print(f\"Updating task: {task_id} to completed status\")\n",
    "    updated_task_response = update_task_wrapper(\n",
    "        task_id = task_id, \n",
    "        status = \"completed\", \n",
    "    )\n",
    "    display(updated_task_response['task'])\n",
    "    print(delete_task(task_id))\n",
    "    print(f\"Deleted task: {task_id}\")"
   ]
  },
  {
   "cell_type": "markdown",
   "metadata": {},
   "source": [
    "Tools seems to work fine, so let's try to integrate them into agent"
   ]
  },
  {
   "cell_type": "markdown",
   "metadata": {},
   "source": [
    "## Session and Runner\n",
    "\n",
    "- **SessionService**: Responsible for managing conversation history and state for different users and sessions. The InMemorySessionService is a simple implementation that stores everything in memory, suitable for testing and simple applications. It keeps track of the messages exchanged. We'll explore state persistence more in Step 4.\n",
    "\n",
    "- **Runner**: The engine that orchestrates the interaction flow. It takes user input, routes it to the appropriate agent, manages calls to the LLM and tools based on the agent's logic, handles session updates via the SessionService, and yields events representing the progress of the interaction."
   ]
  },
  {
   "cell_type": "code",
   "execution_count": 10,
   "metadata": {},
   "outputs": [],
   "source": [
    "from hera.agent import root_agent"
   ]
  },
  {
   "cell_type": "code",
   "execution_count": 11,
   "metadata": {},
   "outputs": [
    {
     "name": "stdout",
     "output_type": "stream",
     "text": [
      "Session created: App='task_agent_app_test', User='user_1', Session='session_001'\n",
      "Runner created for agent 'hera'.\n"
     ]
    }
   ],
   "source": [
    "session_service = InMemorySessionService()\n",
    "\n",
    "# Define constants for identifying the interaction context\n",
    "APP_NAME = \"task_agent_app_test\"\n",
    "USER_ID = \"user_1\"\n",
    "SESSION_ID = \"session_001\" # Using a fixed ID for simplicity\n",
    "\n",
    "# Create the specific session where the conversation will happen\n",
    "session = await session_service.create_session(\n",
    "    app_name=APP_NAME,\n",
    "    user_id=USER_ID,\n",
    "    session_id=SESSION_ID\n",
    ")\n",
    "print(f\"Session created: App='{APP_NAME}', User='{USER_ID}', Session='{SESSION_ID}'\")\n",
    "\n",
    "runner = Runner(\n",
    "    agent=root_agent, # The agent we want to run\n",
    "    app_name=APP_NAME,   # Associates runs with our app\n",
    "    session_service=session_service # Uses our session manager\n",
    ")\n",
    "print(f\"Runner created for agent '{runner.agent.name}'.\")"
   ]
  },
  {
   "cell_type": "markdown",
   "metadata": {},
   "source": [
    "Since LLM calls and tool execution can take some time, Runner operates asynchronously. Thus we need an async function to call our agent."
   ]
  },
  {
   "cell_type": "code",
   "execution_count": 12,
   "metadata": {},
   "outputs": [],
   "source": [
    "async def call_agent_async(query: str, runner, user_id, session_id):\n",
    "  \"\"\"Sends a query to the agent and prints the final response.\"\"\"\n",
    "  print(f\"\\n>>> User Query: {query}\")\n",
    "\n",
    "  # Prepare the user's message in ADK format\n",
    "  content = types.Content(role='user', parts=[types.Part(text=query)])\n",
    "\n",
    "  final_response_text = \"Agent did not produce a final response.\" # Default\n",
    "\n",
    "  # Key Concept: run_async executes the agent logic and yields Events.\n",
    "  # We iterate through events to find the final answer.\n",
    "  async for event in runner.run_async(user_id=user_id, session_id=session_id, new_message=content):\n",
    "      # You can comment the line below if you do not want to see *all* events during execution\n",
    "      print(f\"  [Event] Author: {event.author}, Type: {type(event).__name__}, Final: {event.is_final_response()}, Content: {event.content}\")\n",
    "\n",
    "      # Key Concept: is_final_response() marks the concluding message for the turn.\n",
    "      if event.is_final_response():\n",
    "          if event.content and event.content.parts:\n",
    "             # Assuming text response in the first part\n",
    "             final_response_text = event.content.parts[0].text\n",
    "          elif event.actions and event.actions.escalate: # Handle potential errors/escalations\n",
    "             final_response_text = f\"Agent escalated: {event.error_message or 'No specific message.'}\"\n",
    "          # Add more checks here if needed (e.g., specific error codes)\n",
    "          break # Stop processing events once the final response is found\n",
    "\n",
    "  print(f\"<<< Agent Response: {final_response_text}\")"
   ]
  },
  {
   "cell_type": "code",
   "execution_count": 13,
   "metadata": {},
   "outputs": [
    {
     "name": "stdout",
     "output_type": "stream",
     "text": [
      "\n",
      ">>> User Query: Hi I want to create task \"Send Post\" about sending post to new customers. This is daily task that have to be done tomorrow at 8 PM. It is high priority\n"
     ]
    },
    {
     "name": "stderr",
     "output_type": "stream",
     "text": [
      "Warning: there are non-text parts in the response: ['function_call'], returning concatenated text result from text parts. Check the full candidates.content.parts accessor to get the full model response.\n"
     ]
    },
    {
     "name": "stdout",
     "output_type": "stream",
     "text": [
      "  [Event] Author: hera, Type: Event, Final: False, Content: parts=[Part(\n",
      "  function_call=FunctionCall(\n",
      "    args={\n",
      "      'expression': 'tomorrow'\n",
      "    },\n",
      "    id='adk-a60a31dc-df11-406b-b979-445cf7001411',\n",
      "    name='parse_date_expression'\n",
      "  )\n",
      ")] role='model'\n",
      "  [Event] Author: hera, Type: Event, Final: False, Content: parts=[Part(\n",
      "  function_response=FunctionResponse(\n",
      "    id='adk-a60a31dc-df11-406b-b979-445cf7001411',\n",
      "    name='parse_date_expression',\n",
      "    response={\n",
      "      'date': '2025-09-25',\n",
      "      'datetime': '2025-09-25',\n",
      "      'message': 'Tomorrow: 2025-09-25',\n",
      "      'status': 'success',\n",
      "      'suggested_timeframe': 'day'\n",
      "    }\n",
      "  )\n",
      ")] role='user'\n"
     ]
    },
    {
     "name": "stderr",
     "output_type": "stream",
     "text": [
      "Warning: there are non-text parts in the response: ['function_call'], returning concatenated text result from text parts. Check the full candidates.content.parts accessor to get the full model response.\n"
     ]
    },
    {
     "name": "stdout",
     "output_type": "stream",
     "text": [
      "  [Event] Author: hera, Type: Event, Final: False, Content: parts=[Part(\n",
      "  function_call=FunctionCall(\n",
      "    args={\n",
      "      'description': 'Send post to new customers',\n",
      "      'due_date': '2025-09-25',\n",
      "      'priority': 'high',\n",
      "      'timeframe': 'day',\n",
      "      'title': 'Send Post'\n",
      "    },\n",
      "    id='adk-f9052d04-2ad3-4432-94b4-196f89bed96b',\n",
      "    name='add_task'\n",
      "  )\n",
      ")] role='model'\n",
      "  [Event] Author: hera, Type: Event, Final: False, Content: parts=[Part(\n",
      "  function_response=FunctionResponse(\n",
      "    id='adk-f9052d04-2ad3-4432-94b4-196f89bed96b',\n",
      "    name='add_task',\n",
      "    response={\n",
      "      'error': \"\"\"Invoking `add_task()` failed as the following mandatory input parameters are not present:\n",
      "tags\n",
      "You could retry calling this tool, but it is IMPORTANT for you to provide all the mandatory parameters.\"\"\"\n",
      "    }\n",
      "  )\n",
      ")] role='user'\n"
     ]
    },
    {
     "name": "stderr",
     "output_type": "stream",
     "text": [
      "Warning: there are non-text parts in the response: ['function_call'], returning concatenated text result from text parts. Check the full candidates.content.parts accessor to get the full model response.\n"
     ]
    },
    {
     "name": "stdout",
     "output_type": "stream",
     "text": [
      "  [Event] Author: hera, Type: Event, Final: False, Content: parts=[Part(\n",
      "  function_call=FunctionCall(\n",
      "    args=<dict len=6>,\n",
      "    id='adk-38e2be9c-fd8d-4dc7-a493-f18d55b0ee21',\n",
      "    name='add_task'\n",
      "  )\n",
      ")] role='model'\n",
      "  [Event] Author: hera, Type: Event, Final: False, Content: parts=[Part(\n",
      "  function_response=FunctionResponse(\n",
      "    id='adk-38e2be9c-fd8d-4dc7-a493-f18d55b0ee21',\n",
      "    name='add_task',\n",
      "    response={\n",
      "      'message': 'Task added successfully',\n",
      "      'status': 'success',\n",
      "      'task': <dict len=10>\n",
      "    }\n",
      "  )\n",
      ")] role='user'\n",
      "  [Event] Author: hera, Type: Event, Final: True, Content: parts=[Part(\n",
      "  text=\"\"\"OK. I have created the task \"Send Post\" with the description \"Send post to new customers\" due tomorrow, September 25, 2025. It is a high-priority daily task.\n",
      "```json\n",
      "{\n",
      "  \"status\": \"success\",\n",
      "  \"message\": \"Task created successfully\",\n",
      "  \"task\": {\n",
      "    \"title\": \"Send Post\",\n",
      "    \"description\": \"Send post to new customers\",\n",
      "    \"due_date\": \"2025-09-25\",\n",
      "    \"priority\": \"high\",\n",
      "    \"timeframe\": \"day\"\n",
      "  }\n",
      "}\n",
      "```\"\"\"\n",
      ")] role='model'\n",
      "<<< Agent Response: OK. I have created the task \"Send Post\" with the description \"Send post to new customers\" due tomorrow, September 25, 2025. It is a high-priority daily task.\n",
      "```json\n",
      "{\n",
      "  \"status\": \"success\",\n",
      "  \"message\": \"Task created successfully\",\n",
      "  \"task\": {\n",
      "    \"title\": \"Send Post\",\n",
      "    \"description\": \"Send post to new customers\",\n",
      "    \"due_date\": \"2025-09-25\",\n",
      "    \"priority\": \"high\",\n",
      "    \"timeframe\": \"day\"\n",
      "  }\n",
      "}\n",
      "```\n"
     ]
    }
   ],
   "source": [
    "await call_agent_async(\"Hi I want to create task \\\"Send Post\\\" about sending post to new customers. This is daily task that have to be done tomorrow at 8 PM. It is high priority\",\n",
    "                                       runner=runner,\n",
    "                                       user_id=USER_ID,\n",
    "                                       session_id=SESSION_ID)"
   ]
  },
  {
   "cell_type": "code",
   "execution_count": null,
   "metadata": {},
   "outputs": [
    {
     "data": {
      "text/plain": [
       "{'status': 'success',\n",
       " 'tasks': [{'id': '839c4c78-f462-4420-9e79-5f40d6263e9f',\n",
       "   'title': 'Send Post',\n",
       "   'description': 'Send post to new customers',\n",
       "   'timeframe': 'day',\n",
       "   'priority': 'high',\n",
       "   'status': 'pending',\n",
       "   'due_date': '2025-09-25',\n",
       "   'tags': [],\n",
       "   'created_at': '2025-09-24T10:49:31.855346',\n",
       "   'updated_at': '2025-09-24T10:49:31.855352'}],\n",
       " 'count': 1,\n",
       " 'filters': {'timeframe': None, 'status': None, 'target_date': '2025-09-24'}}"
      ]
     },
     "execution_count": 16,
     "metadata": {},
     "output_type": "execute_result"
    }
   ],
   "source": [
    "list_tasks(None, None, None, False)"
   ]
  },
  {
   "cell_type": "code",
   "execution_count": 17,
   "metadata": {},
   "outputs": [
    {
     "name": "stdout",
     "output_type": "stream",
     "text": [
      "\n",
      ">>> User Query: What tasks I have for tomorrow?\n"
     ]
    },
    {
     "name": "stderr",
     "output_type": "stream",
     "text": [
      "Warning: there are non-text parts in the response: ['function_call'], returning concatenated text result from text parts. Check the full candidates.content.parts accessor to get the full model response.\n"
     ]
    },
    {
     "name": "stdout",
     "output_type": "stream",
     "text": [
      "  [Event] Author: hera, Type: Event, Final: False, Content: parts=[Part(\n",
      "  function_call=FunctionCall(\n",
      "    args={},\n",
      "    id='adk-b4605f8e-89a6-44fb-924d-c9a2cfc1d158',\n",
      "    name='list_tomorrow_tasks'\n",
      "  )\n",
      ")] role='model'\n",
      "  [Event] Author: hera, Type: Event, Final: False, Content: parts=[Part(\n",
      "  function_response=FunctionResponse(\n",
      "    id='adk-b4605f8e-89a6-44fb-924d-c9a2cfc1d158',\n",
      "    name='list_tomorrow_tasks',\n",
      "    response={\n",
      "      'error': \"\"\"Invoking `list_tomorrow_tasks()` failed as the following mandatory input parameters are not present:\n",
      "status\n",
      "You could retry calling this tool, but it is IMPORTANT for you to provide all the mandatory parameters.\"\"\"\n",
      "    }\n",
      "  )\n",
      ")] role='user'\n"
     ]
    },
    {
     "name": "stderr",
     "output_type": "stream",
     "text": [
      "Warning: there are non-text parts in the response: ['function_call'], returning concatenated text result from text parts. Check the full candidates.content.parts accessor to get the full model response.\n"
     ]
    },
    {
     "name": "stdout",
     "output_type": "stream",
     "text": [
      "  [Event] Author: hera, Type: Event, Final: False, Content: parts=[Part(\n",
      "  function_call=FunctionCall(\n",
      "    args={\n",
      "      'status': 'pending'\n",
      "    },\n",
      "    id='adk-5f08d1a6-a9a3-40fa-b911-e9025cf76390',\n",
      "    name='list_tomorrow_tasks'\n",
      "  )\n",
      ")] role='model'\n",
      "  [Event] Author: hera, Type: Event, Final: False, Content: parts=[Part(\n",
      "  function_response=FunctionResponse(\n",
      "    id='adk-5f08d1a6-a9a3-40fa-b911-e9025cf76390',\n",
      "    name='list_tomorrow_tasks',\n",
      "    response={\n",
      "      'count': 1,\n",
      "      'filters': {\n",
      "        'status': 'pending',\n",
      "        'target_date': '2025-09-25',\n",
      "        'timeframe': 'day'\n",
      "      },\n",
      "      'status': 'success',\n",
      "      'tasks': [\n",
      "        <dict len=10>,\n",
      "      ]\n",
      "    }\n",
      "  )\n",
      ")] role='user'\n",
      "  [Event] Author: hera, Type: Event, Final: True, Content: parts=[Part(\n",
      "  text=\"\"\"OK. Tomorrow, September 25, 2025, you have one pending task: \"Send Post\" with the description \"Send post to new customers\". It is a high-priority daily task.\n",
      "```json\n",
      "{\n",
      "  \"status\": \"success\",\n",
      "  \"count\": 1,\n",
      "  \"tasks\": [\n",
      "    {\n",
      "      \"title\": \"Send Post\",\n",
      "      \"description\": \"Send post to new customers\",\n",
      "      \"due_date\": \"2025-09-25\",\n",
      "      \"priority\": \"high\",\n",
      "      \"timeframe\": \"day\",\n",
      "      \"status\": \"pending\"\n",
      "    }\n",
      "  ]\n",
      "}\n",
      "```\"\"\"\n",
      ")] role='model'\n",
      "<<< Agent Response: OK. Tomorrow, September 25, 2025, you have one pending task: \"Send Post\" with the description \"Send post to new customers\". It is a high-priority daily task.\n",
      "```json\n",
      "{\n",
      "  \"status\": \"success\",\n",
      "  \"count\": 1,\n",
      "  \"tasks\": [\n",
      "    {\n",
      "      \"title\": \"Send Post\",\n",
      "      \"description\": \"Send post to new customers\",\n",
      "      \"due_date\": \"2025-09-25\",\n",
      "      \"priority\": \"high\",\n",
      "      \"timeframe\": \"day\",\n",
      "      \"status\": \"pending\"\n",
      "    }\n",
      "  ]\n",
      "}\n",
      "```\n"
     ]
    }
   ],
   "source": [
    "await call_agent_async(\"What tasks I have for tomorrow?\",\n",
    "                                       runner=runner,\n",
    "                                       user_id=USER_ID,\n",
    "                                       session_id=SESSION_ID)"
   ]
  },
  {
   "cell_type": "markdown",
   "metadata": {},
   "source": [
    "<<< Agent Response: OK. Tomorrow, September 25, 2025, you have one pending task: \"Send Post\" with the description \"Send post to new customers\". It is a high-priority daily task.\n",
    "```json\n",
    "{\n",
    "  \"status\": \"success\",\n",
    "  \"count\": 1,\n",
    "  \"tasks\": [\n",
    "    {\n",
    "      \"title\": \"Send Post\",\n",
    "      \"description\": \"Send post to new customers\",\n",
    "      \"due_date\": \"2025-09-25\",\n",
    "      \"priority\": \"high\",\n",
    "      \"timeframe\": \"day\",\n",
    "      \"status\": \"pending\"\n",
    "    }\n",
    "  ]\n",
    "}"
   ]
  },
  {
   "cell_type": "markdown",
   "metadata": {},
   "source": [
    "Example of building conversation:"
   ]
  },
  {
   "cell_type": "code",
   "execution_count": 43,
   "metadata": {},
   "outputs": [
    {
     "name": "stdout",
     "output_type": "stream",
     "text": [
      "\n",
      ">>> User Query: Hi I want to create task \"Send Post\". This is daily task that have to be done tomorrow at 8 PM. It is really important\n",
      "  [Event] Author: hera, Type: Event, Final: True, Content: parts=[Part(\n",
      "  text=\"\"\"```json\n",
      "{\n",
      "  \"response\": {\n",
      "    \"status\": \"success\",\n",
      "    \"message\": \"OK. I can create this task for you. What description and tags would you like to add?\",\n",
      "    \"next_action\": \"provide_task_details\"\n",
      "  }\n",
      "}\n",
      "```\"\"\"\n",
      ")] role='model'\n",
      "<<< Agent Response: ```json\n",
      "{\n",
      "  \"response\": {\n",
      "    \"status\": \"success\",\n",
      "    \"message\": \"OK. I can create this task for you. What description and tags would you like to add?\",\n",
      "    \"next_action\": \"provide_task_details\"\n",
      "  }\n",
      "}\n",
      "```\n",
      "\n",
      ">>> User Query: What tasks I have for today?\n"
     ]
    },
    {
     "name": "stderr",
     "output_type": "stream",
     "text": [
      "Warning: there are non-text parts in the response: ['function_call'], returning concatenated text result from text parts. Check the full candidates.content.parts accessor to get the full model response.\n"
     ]
    },
    {
     "name": "stdout",
     "output_type": "stream",
     "text": [
      "  [Event] Author: hera, Type: Event, Final: False, Content: parts=[Part(\n",
      "  function_call=FunctionCall(\n",
      "    args={},\n",
      "    id='adk-7498a21b-c0e7-4b89-bbc9-794233e97b59',\n",
      "    name='list_today_tasks'\n",
      "  )\n",
      ")] role='model'\n",
      "  [Event] Author: hera, Type: Event, Final: False, Content: parts=[Part(\n",
      "  function_response=FunctionResponse(\n",
      "    id='adk-7498a21b-c0e7-4b89-bbc9-794233e97b59',\n",
      "    name='list_today_tasks',\n",
      "    response={\n",
      "      'error': \"\"\"Invoking `list_today_tasks()` failed as the following mandatory input parameters are not present:\n",
      "status\n",
      "You could retry calling this tool, but it is IMPORTANT for you to provide all the mandatory parameters.\"\"\"\n",
      "    }\n",
      "  )\n",
      ")] role='user'\n",
      "  [Event] Author: hera, Type: Event, Final: True, Content: parts=[Part(\n",
      "  text=\"\"\"```json\n",
      "{\n",
      "  \"response\": {\n",
      "    \"status\": \"error\",\n",
      "    \"message\": \"To list today's tasks, I need to know what status you are looking for. Do you want tasks that are pending, in_progress, completed, or cancelled?\",\n",
      "    \"error_code\": \"missing_parameter\"\n",
      "  }\n",
      "}\n",
      "```\"\"\"\n",
      ")] role='model'\n",
      "<<< Agent Response: ```json\n",
      "{\n",
      "  \"response\": {\n",
      "    \"status\": \"error\",\n",
      "    \"message\": \"To list today's tasks, I need to know what status you are looking for. Do you want tasks that are pending, in_progress, completed, or cancelled?\",\n",
      "    \"error_code\": \"missing_parameter\"\n",
      "  }\n",
      "}\n",
      "```\n",
      "\n",
      ">>> User Query: What tasks I have for tomorrow?\n"
     ]
    },
    {
     "name": "stderr",
     "output_type": "stream",
     "text": [
      "Warning: there are non-text parts in the response: ['function_call'], returning concatenated text result from text parts. Check the full candidates.content.parts accessor to get the full model response.\n"
     ]
    },
    {
     "name": "stdout",
     "output_type": "stream",
     "text": [
      "  [Event] Author: hera, Type: Event, Final: False, Content: parts=[Part(\n",
      "  function_call=FunctionCall(\n",
      "    args={},\n",
      "    id='adk-d491a03c-30f3-4a61-a050-9f3381620848',\n",
      "    name='list_tomorrow_tasks'\n",
      "  )\n",
      ")] role='model'\n",
      "  [Event] Author: hera, Type: Event, Final: False, Content: parts=[Part(\n",
      "  function_response=FunctionResponse(\n",
      "    id='adk-d491a03c-30f3-4a61-a050-9f3381620848',\n",
      "    name='list_tomorrow_tasks',\n",
      "    response={\n",
      "      'error': \"\"\"Invoking `list_tomorrow_tasks()` failed as the following mandatory input parameters are not present:\n",
      "status\n",
      "You could retry calling this tool, but it is IMPORTANT for you to provide all the mandatory parameters.\"\"\"\n",
      "    }\n",
      "  )\n",
      ")] role='user'\n",
      "  [Event] Author: hera, Type: Event, Final: True, Content: parts=[Part(\n",
      "  text=\"\"\"```json\n",
      "{\n",
      "  \"response\": {\n",
      "    \"status\": \"error\",\n",
      "    \"message\": \"To list tomorrow's tasks, I need to know what status you are looking for. Do you want tasks that are pending, in_progress, completed, or cancelled?\",\n",
      "    \"error_code\": \"missing_parameter\"\n",
      "  }\n",
      "}\n",
      "```\"\"\"\n",
      ")] role='model'\n",
      "<<< Agent Response: ```json\n",
      "{\n",
      "  \"response\": {\n",
      "    \"status\": \"error\",\n",
      "    \"message\": \"To list tomorrow's tasks, I need to know what status you are looking for. Do you want tasks that are pending, in_progress, completed, or cancelled?\",\n",
      "    \"error_code\": \"missing_parameter\"\n",
      "  }\n",
      "}\n",
      "```\n"
     ]
    }
   ],
   "source": [
    "# We need an async function to await our interaction helper\n",
    "async def run_conversation():\n",
    "    await call_agent_async(\"Hi I want to create task \\\"Send Post\\\". This is daily task that have to be done tomorrow at 8 PM. It is really important\",\n",
    "                                       runner=runner,\n",
    "                                       user_id=USER_ID,\n",
    "                                       session_id=SESSION_ID)\n",
    "\n",
    "    await call_agent_async(\"What tasks I have for today?\",\n",
    "                                       runner=runner,\n",
    "                                       user_id=USER_ID,\n",
    "                                       session_id=SESSION_ID)\n",
    "\n",
    "    await call_agent_async(\"What tasks I have for tomorrow?\",\n",
    "                                       runner=runner,\n",
    "                                       user_id=USER_ID,\n",
    "                                       session_id=SESSION_ID)\n",
    "\n",
    "# Execute the conversation using await in an async context (like Colab/Jupyter)\n",
    "await run_conversation()"
   ]
  },
  {
   "cell_type": "code",
   "execution_count": null,
   "metadata": {},
   "outputs": [],
   "source": []
  }
 ],
 "metadata": {
  "kernelspec": {
   "display_name": ".venv",
   "language": "python",
   "name": "python3"
  },
  "language_info": {
   "codemirror_mode": {
    "name": "ipython",
    "version": 3
   },
   "file_extension": ".py",
   "mimetype": "text/x-python",
   "name": "python",
   "nbconvert_exporter": "python",
   "pygments_lexer": "ipython3",
   "version": "3.10.18"
  }
 },
 "nbformat": 4,
 "nbformat_minor": 2
}
