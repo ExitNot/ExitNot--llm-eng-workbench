{
 "cells": [
  {
   "cell_type": "markdown",
   "id": "55dfe132",
   "metadata": {},
   "source": [
    "# Meeting summary pipeline\n",
    "\n",
    "Here we will try to implement meeting summary pipeline espesialy audio to text summary.\n",
    "\n",
    "Recording is taken from this [dataset](https://huggingface.co/datasets/huuuyeah/meetingbank)\n",
    "Audio files can be found [here](https://huggingface.co/datasets/huuuyeah/MeetingBank_Audio/tree/main)\n",
    "\n",
    "For testing purpose audio file is taken localy into '/extra' folder"
   ]
  },
  {
   "cell_type": "code",
   "execution_count": 46,
   "id": "f77d33c2",
   "metadata": {},
   "outputs": [],
   "source": [
    "# Imports\n",
    "import os\n",
    "import sys\n",
    "from pathlib import Path\n",
    "from dotenv import load_dotenv\n",
    "from huggingface_hub import login\n",
    "from transformers import AutoModelForSpeechSeq2Seq, AutoProcessor, pipeline\n",
    "import numpy as np\n",
    "import torch\n"
   ]
  },
  {
   "cell_type": "code",
   "execution_count": 37,
   "id": "68567e61",
   "metadata": {},
   "outputs": [],
   "source": [
    "# Load environment variables\n",
    "load_dotenv() \n",
    "\n",
    "# Add project root to Python path and change working directory\n",
    "project_root = Path().resolve().parent\n",
    "sys.path.insert(0, str(project_root))\n",
    "os.chdir(project_root)  # Change working directory to project root"
   ]
  },
  {
   "cell_type": "code",
   "execution_count": 19,
   "id": "14ad45ab",
   "metadata": {},
   "outputs": [
    {
     "name": "stderr",
     "output_type": "stream",
     "text": [
      "Note: Environment variable`HF_TOKEN` is set and is the current active token independently from the token you've just configured.\n"
     ]
    }
   ],
   "source": [
    "# Sign in to HuggingFace Hub\n",
    "\n",
    "hf_token = os.environ.get('HF_TOKEN')\n",
    "if hf_token is None:\n",
    "    raise ValueError(\"HF_TOKEN is not set\")\n",
    "login(hf_token, add_to_git_credential=True)"
   ]
  },
  {
   "cell_type": "markdown",
   "id": "e1d1e4eb",
   "metadata": {},
   "source": [
    "Brifly about models we are using here:\n",
    "\n",
    "**distil-medium.en** - is a distilated whisper model that is trained using Robust Knowledge Distillation. Distilated model will be not only smaller by 49% but also 6 times faster.\n",
    "- More about Robust Knowledge Distillation you can read [here](https://arxiv.org/abs/2311.00430)\n",
    "- Model can be found [here](https://huggingface.co/distil-whisper/distil-medium.en)\n",
    "\n"
   ]
  },
  {
   "cell_type": "code",
   "execution_count": null,
   "id": "a476011b",
   "metadata": {},
   "outputs": [],
   "source": [
    "# Constants\n",
    "\n",
    "ASR_MODEL = \"distil-whisper/distil-medium.en\"\n",
    "\n",
    "audio_file_name = \"extra/denver_meeting_rec.mp3\""
   ]
  },
  {
   "cell_type": "markdown",
   "id": "2ab7c064",
   "metadata": {},
   "source": [
    "## Audio To Text\n",
    "\n",
    "Let's start from our ASR. We will use distil-whisper using HF transformers pipelines. As long as our audio is longer than 30-seconds (when *Short-Form Transcription* can be used) we will use *Long-Form Transcription*. \n",
    "\n",
    "Small note from model page:\n",
    "> Distil-Whisper uses a chunked algorithm to transcribe long-form audio files (> 30-seconds).\n",
    "> In practice, this chunked long-form algorithm is 9x faster than the sequential > algorithm proposed by OpenAI in the Whisper paper"
   ]
  },
  {
   "cell_type": "code",
   "execution_count": 39,
   "id": "38934ad5",
   "metadata": {},
   "outputs": [
    {
     "name": "stderr",
     "output_type": "stream",
     "text": [
      "Device set to use cpu\n",
      "Using `chunk_length_s` is very experimental with seq2seq models. The results will not necessarily be entirely accurate and will have caveats. More information: https://github.com/huggingface/transformers/pull/20104. Ignore this warning with pipeline(..., ignore_warning=True). To use Whisper for long-form transcription, use rather the model's `generate` method directly as the model relies on it's own chunking mechanism (cf. Whisper original paper, section 3.8. Long-form Transcription).\n"
     ]
    }
   ],
   "source": [
    "# Initialize ASR model\n",
    "torch_dtype = torch.float16 if torch.cuda.is_available() else torch.float32\n",
    "device = \"cuda:0\" if torch.cuda.is_available() else \"cpu\"\n",
    "\n",
    "model = AutoModelForSpeechSeq2Seq.from_pretrained(\n",
    "    ASR_MODEL, torch_dtype=torch_dtype, low_cpu_mem_usage=True, use_safetensors=True\n",
    ")\n",
    "model.to(device)\n",
    "\n",
    "processor = AutoProcessor.from_pretrained(ASR_MODEL)\n",
    "\n",
    "asr_pipe = pipeline(\n",
    "    \"automatic-speech-recognition\",\n",
    "    model=model,\n",
    "    tokenizer=processor.tokenizer,\n",
    "    feature_extractor=processor.feature_extractor,\n",
    "    max_new_tokens=128,\n",
    "    chunk_length_s=15, # This will enable Long-Form Transcription\n",
    "    # batch_size=16, # for batch processing\n",
    "    torch_dtype=torch_dtype,\n",
    "    device=device,\n",
    ")"
   ]
  },
  {
   "cell_type": "code",
   "execution_count": 40,
   "id": "7f28d848",
   "metadata": {},
   "outputs": [
    {
     "name": "stderr",
     "output_type": "stream",
     "text": [
      "Using custom `forced_decoder_ids` from the (generation) config. This is deprecated in favor of the `task` and `language` flags/config options.\n"
     ]
    }
   ],
   "source": [
    "result = asr_pipe(audio_file_name)"
   ]
  },
  {
   "cell_type": "code",
   "execution_count": 45,
   "id": "b369cb23",
   "metadata": {},
   "outputs": [
    {
     "name": "stdout",
     "output_type": "stream",
     "text": [
      " kind of the confluence of this whole idea of the confluence week, the merging of two rivers, and as we've kind of seen recently in politics and in the world, there's a lot of situations where water is very important right now and it's a very big issue so that is the reason that the back of the logo is considered water. So let you see the reason behind the logo and all the meanings behind the symbolism. And you'll hear a little bit more about our Confluence Week is basically highlighting all of these indigenous events and things that are happening around Denver so that we can kind of bring more people together and kind of share this whole idea of Indigenous Peoples Day. So thank you. Thank you so much and thanks for your leadership. All right. Welcome to the Denver City Council meeting of Monday, October 9th. Please rise with the Pledge of Allegiance by Councilman Lopez. I pledge allegiance to the flag of the United States of America, to the Republic of which it stands, one nation under God, indivisible, and liberty and justice for all. All right, thank you, Councilman Lopez, Madam Secretary Raul call. Black. Clerk. Here. Espinosa. Here. Flynn. Gilmore. Here. Cashman. Canich? Here. Lopez. Here. New? Ortega. Here. Sussman. Mr. President. Here. 11 members present. We do have a quorum approval of the minutes are there any corrections to the minutes of October 2nd seeing none minutes of October 2nd stand approved council announcements are there any announcements by members of council? Councilman Clark. Thank you, Mr. President. I just wanted to invite everyone down to the first ever Halloween parade on Broadway in Lucky District 7. It will happen on Saturday, October 21st at 6 o'clock PM. It will move along Broadway from 3rd to Alameda. It's going to be a fun, family-friendly event. Everyone's invited to come down, wear a costume. There will be candy for the kids and there are teaky zombies and 29 horses and all kinds of fun and funky stuff on the fun and funky part of Broadway. So please join us October 21st at 6 o'clock for the Broadway Halloween. Thank you, Mr. President. All right, thank you, Councilman Clark. I will be there. All right. Presentations, Madam Secretary, do you have any presentations? None, Mr President? Communications. Do we have any communications? None, Mr President. We do have one proclamation this evening, proclamation 1127, an observance of the annual indigenous peoples day in the city and county of Denver. Councilor low players, will you please read it? Thank you, Mr. President, with pride. Proclamation number 17, well let me just say this differently, proclamation number 1127 series of 2017, an observance of the second annual Indigenous peoples day in the city and county of Denver. Whereas the council of the city and county of Denver recognizes that the indigenous peoples have lived and flourished on the lands known as the America since time and memorial. And that Denver and the surrounding communities are built upon the ancestral homelands of numerous indigenous tribes, which include the southern Ute, the Ute Mountains, Ute tribes of Colorado, and whereas the tribal homelands and seasonal encampments of the Arapahoe and Cheyam people along the banks of the Cherry Creek and South Platte River confluence gave bearing to the future settlements that would become the birthplace of the Mile High City. And whereas Colorado encompasses the ancestral homelands of 48 tribes in the city and county of Denver and surrounding communities are home to the descendants of approximately 100 tribal nations. And whereas, on October 3rd, 2016, the city and county of Denver unanimously passed Council Bill 801 series of 2016 officially designating the second Monday of October of each year as Indigenous People's Day in Denver, Colorado. And whereas the Council of the City and County of Denver continues to recognize and value the vast contributions made to the community through indigenous people's knowledge, science, philosophy, arts, and culture, and through these contributions the city of Denver has developed and thrived. Whereas the indigenous community especially youth have made great efforts this year to draw attention to the contributions of indigenous people including Confluence Week, drawing record attendance to a National Indigenous Youth Leadership Conference leading conversations on inclusion with their peers and supporting increased indigenous youth participation in science and engineering. Now therefore be it proclaimed by the Council of the City and County of Denver Section 1 that the Council of the City and County of Denver celebrates and honors the cultural and foundational contributions of indigenous people to our history, our past, our present, and future, and continues to promote the education of the Denver community about these historical and contemporary contributions of indigenous people. Section 2 at the City and County of Denver, Colorado does hereby observe October 9th, 2017 as Indigenous People's Day. Section 3, that the Clerk of the City and County of Denver shall attest and affix the seal of the City and County Denver to this proclamation and that a copy be transmitted to the Denver American Indian Commission, the City and County of Denver School District Number One, and the Colorado Commission on Indian Affairs. Thank you, Councilman Lopez, your motion to adopt. Mr. President, I move that proclamation number 1127, series of 2017 be adopted. All right, it has been moved and second. It comes from members of Council, Councilor Lopez. Thank you Mr President. It gives me a lot of pleasure and pride to read this proclamation officially for this for the third time but as Indigenous Indigenous Peoples Day in Denver efficiently for the second time. It is, it's always awesome to be able to see not just this proclamation come through come by my desk but to see there's so many different people from our community in our in our council chambers. It was a very beautiful piece of artwork that you presented to us earlier and it is exactly the spirit that we drafted this proclamation and this actual the ordinance that created indigenous people's day when we sat down and wrote it and as a community we couldn't think of anything else to begin except for the confluence of the two rivers and those confluence of the two rivers created such a great city and we live in such an amazing city and we we're all proud of it and sometimes we and a lot of people from all over the country are all over the world are proud of it and sometimes a little too proud of it is just telling them to go back home. But I'm kidding when I say that. But the really nice thing about this is that we are celebrating indigenous people's day out of pride for who we are, who we are as a city and the contributions of indigenous people to the city, not out of spite, not out of a replacement of one culture over the other or or out of contempt or or disrespect you know I think of a quote that Cesar Chavez made very popular and it stuck with me for a very long time and any time I have the opportunity to speak in front of children and especially children in our community that they often second-guess themselves and where they're coming from, who they are. And I always say that, you know, it's very important to be proud of who you're from. And the quote that I use from Cesar Chavez is, you know, pride in one's own culture does not require contempt or disrespect of another, right? And that's very important. It's very important for us to recognize that. No matter who we are, where we come from in this society, that your pride in your own culture doesn't require, it should not require the contempt or disrespect of another. And man, what a year to be, for that to just sit on our shoulders for a while, for us to think about, And so I wanted to just to thank you all. I think the commission, there's going to be a couple individuals that are going to come to speak. Thank you for your art, your lovely artwork, for us to see what's in your heart and what now has become a probably is going to be a very important symbol for the community. And also just for the work, the daily work every single day. We still have a lot of brothers and sisters whose ancestors once lived in these lands freely now stand on street corners, right? In poverty, without access to services, right? Without access to sobriety or even housing or jobs. And what a cruel way to pay back a culture that has paved the way for the city to be built upon its shores, right? So we have a lot of work to do. And these kind of proclamations and this day is not a day off, it's a day on in Denver, right? And addressing those critical issues. So I know that my colleagues are very supportive. I'm going to ask you to support this proclamation as I know you always have done in the past. I'm very proud of today. Oh, and we made Time magazine and Newsweek once again today as being a leader in terms of the cities that are celebrating indigenous peoples. I wanted to make a point out of that. Thank you, Councilman Lopez and thank you for sponsoring this. Council Martega. Mr. President, I want to ask that my name be added. I don't think I could add much more to what Councilman Lopez has shared with us. I want to thank him for bringing this forward and really just appreciate all the contributions that our Native American community has contributed to this great city and great state. I worked in the lieutenant governor's office when the Commission on Indian Affairs was created and had the benefit of being able to go down to the four corners for a peace treaty signing ceremony between the youths and the Comanches that had been sort of at odds with each other for about a hundred years and just being able to participate in that powwow-out was pretty awesome. So, and for those of you who continue to participate in the annual powwow, it's such a great opportunity for everybody else to enjoy so many of the contributions of the culture. I mean to see that the dance continues to be carried on as well as the native language from generation to generation is just so incredible because in so many cultures you know people have come here and assimilated to the norms here and they lose their language and lose a lot of the culture. And in the native community that that hasn't happened that has that you know commitment to just passing that on from generation to generation is so important. And so I'm happy to be a co-sponsor of this tonight. Thank you. All right, thank you, Councilwoman Artega. Councilwoman Caniche. Thank you very much, and I also want to thank my colleague for bringing this forward. And I just wanted to say a word to the artist about how beautiful and moving I thought this logo was and your description of it and I think one of the things that is clear is you know the words sometimes don't convey the power of imagery or music or the other pieces that make up culture and so I think the art is so important. And when you talked about water I was also thinking about land and I guess I just wanted to say thank you many of the Native American peoples of Colorado have been at the forefront or actually nationally of defending some of the the public lands that have been protected over the last few years that are under attack right now. And there are places that the communities have fought to protect, but that everyone gets to enjoy. And so I just think that it's an example of where cultural preservation intersects with environmental protection, with recreation and all of the other ways that public lands are so important. And so I think I just wanted to say thank you for that because I think we have some very sacred places in our country that are at risk right now and so as we celebrate I appreciate that there's still a piece of resistance in here and I think that I just want to mention a solidarity in it mentioned a feeling of solidarity with that resistance. So thank you and happy Confluence Week. Thank you, Councilwoman Canich, and seeing no other other comments I'll just say a couple and in a time of such divisive ugliness and just despicable behavior from our leadership. The reason I'm so supportive of indigenous people's days because it means inclusivity. It means respecting all, respecting those who have been silenced on purpose for a long time and whose history has not been told. And so we celebrate inclusivity in the face of such evil times, honestly.\n"
     ]
    }
   ],
   "source": [
    "print(result['text'])\n"
   ]
  }
 ],
 "metadata": {
  "kernelspec": {
   "display_name": ".venv",
   "language": "python",
   "name": "python3"
  },
  "language_info": {
   "codemirror_mode": {
    "name": "ipython",
    "version": 3
   },
   "file_extension": ".py",
   "mimetype": "text/x-python",
   "name": "python",
   "nbconvert_exporter": "python",
   "pygments_lexer": "ipython3",
   "version": "3.10.17"
  }
 },
 "nbformat": 4,
 "nbformat_minor": 5
}
